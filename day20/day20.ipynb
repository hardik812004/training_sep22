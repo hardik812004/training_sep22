{
 "cells": [
  {
   "cell_type": "code",
   "execution_count": null,
   "metadata": {},
   "outputs": [],
   "source": []
  }
 ],
 "metadata": {
  "kernelspec": {
   "display_name": "Python 3.9.12 ('base')",
   "language": "python",
   "name": "python3"
  },
  "language_info": {
   "name": "python",
   "version": "3.9.12"
  },
  "orig_nbformat": 4,
  "vscode": {
   "interpreter": {
    "hash": "92df773de3a043884c63ff6eaa6f86ea14c01b6a8d40608556e325d9265e5b2a"
   }
  }
 },
 "nbformat": 4,
 "nbformat_minor": 2
}
